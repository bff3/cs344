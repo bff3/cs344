{
  "cells": [
    {
      "cell_type": "markdown",
      "source": "# Project Draft #1\n\nI am interested in studying the use of convolutional neural nets for\nfacial recognition. Datasets I could use include https://old.datahub.io/dataset/collection-of-facial-images\nwhich has sets of faces where the subject is doing different things to increase variability.\n Another dataset I could use might include one  a user on reddit posted a large database of pictures scraped from tinder. Another dataset on kaggle also labled pictues with race, gender and emotion, so I could try training with those variables as well.\n Success would be a model which could tell, given a picture, if that picture was a picture of a the person it's supposed to be of with an accuracy of 95%. \n I would use convolutional neural nets using the keras Conv2D layers and MaxPool layers. Difficulties might include reconizing faces from different angles or with different expressions",
      "metadata": {
        "pycharm": {
          "metadata": false
        }
      }
    }
  ],
  "metadata": {
    "language_info": {
      "codemirror_mode": {
        "name": "ipython",
        "version": 2
      },
      "file_extension": ".py",
      "mimetype": "text/x-python",
      "name": "python",
      "nbconvert_exporter": "python",
      "pygments_lexer": "ipython2",
      "version": "2.7.6"
    },
    "kernelspec": {
      "name": "python3",
      "language": "python",
      "display_name": "Python 3"
    },
    "stem_cell": {
      "cell_type": "raw",
      "source": "",
      "metadata": {
        "pycharm": {
          "metadata": false
        }
      }
    }
  },
  "nbformat": 4,
  "nbformat_minor": 0
}
