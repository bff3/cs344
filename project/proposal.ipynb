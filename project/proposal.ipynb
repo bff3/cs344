{
  "cells": [
    {
      "cell_type": "markdown",
      "source": "# Project Draft #1\n\nI am interested in studying the use of convolutional neural nets for\nfacial recognition. Datasets I could use include https://old.datahub.io/dataset/collection-of-facial-images\nwhich has sets of faces where the subject is doing different things to increase variability\n",
      "metadata": {
        "pycharm": {
          "metadata": false
        }
      }
    }
  ],
  "metadata": {
    "language_info": {
      "codemirror_mode": {
        "name": "ipython",
        "version": 2
      },
      "file_extension": ".py",
      "mimetype": "text/x-python",
      "name": "python",
      "nbconvert_exporter": "python",
      "pygments_lexer": "ipython2",
      "version": "2.7.6"
    },
    "kernelspec": {
      "name": "python3",
      "language": "python",
      "display_name": "Python 3"
    },
    "stem_cell": {
      "cell_type": "raw",
      "source": "",
      "metadata": {
        "pycharm": {
          "metadata": false
        }
      }
    }
  },
  "nbformat": 4,
  "nbformat_minor": 0
}