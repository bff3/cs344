{
 "cells": [
  {
   "cell_type": "markdown",
   "metadata": {
    "pycharm": {
     "metadata": false
    }
   },
   "source": [
    "# Project Draft #2\n",
    "   \n",
    "<p>\n",
    "    My goal for this project is to replicate the methods used in\n",
    "    \"FaceNet: A Unified Embedding for Face Recognition and Clustering\" (https://arxiv.org/pdf/1503.03832.pdf).\n",
    "</p>\n",
    "<p>\n",
    "    Their approach uses Relu activation functions. They use eigenfaces, or a principle component analysis of the images\n",
    "    to reduce the computational complexity of training. This experiment also uses the triplet loss function which uses\n",
    "    an anchor feature, a positive match feature, and a negative feature. The triplet loss function is used for face verification. The advantage of using\n",
    "    triplet loss is that it increases the embedding distance between faces, while keeping the same face close together. They\n",
    "    use Stochastic gradient decent and AdaGrad for the optimizers. For their core architectures, they use Zeiler&Fergus\n",
    "    style deep architecture which is 22 layers deep. They also use Inception-style model, which uses optimized local\n",
    "    architecture construction and repeats it spatially (Going deeper with convolutions). Keras has more recent\n",
    "    implimentations of this called InceptionV3.\n",
    "</p>\n",
    "<p>\n",
    "    FaceNet used Labeled Faces in the Wild (LFW) and YouTube Faces for their datasets. Youtube Faces uses pairs of labeled\n",
    "    instead of pairs of still pictures. LFW is available through scikit learn.\n",
    "</p>\n",
    "<p>\n",
    "    I plan to use Keras for much of the implimentation of the FaceNet methods. I plan to compare the use of InceptionV3\n",
    "    and Inception-ResNet-v2.\n",
    "</p>\n",
    "\n"
   ]
  }
 ],
 "metadata": {
  "kernelspec": {
   "display_name": "Python 3",
   "language": "python",
   "name": "python3"
  },
  "language_info": {
   "codemirror_mode": {
    "name": "ipython",
    "version": 3
   },
   "file_extension": ".py",
   "mimetype": "text/x-python",
   "name": "python",
   "nbconvert_exporter": "python",
   "pygments_lexer": "ipython3",
   "version": "3.5.2"
  },
  "stem_cell": {
   "cell_type": "raw",
   "metadata": {
    "pycharm": {
     "metadata": false
    }
   },
   "source": ""
  }
 },
 "nbformat": 4,
 "nbformat_minor": 1
}
