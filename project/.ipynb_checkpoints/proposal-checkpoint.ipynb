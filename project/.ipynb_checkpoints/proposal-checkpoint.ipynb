{
 "cells": [
  {
   "cell_type": "markdown",
   "metadata": {
    "pycharm": {
     "metadata": false
    }
   },
   "source": [
    "# Project Draft #1\n",
    "\n",
    "I am interested in studying the use of convolutional neural nets for\n",
    "facial recognition. Datasets I could use include https://old.datahub.io/dataset/collection-of-facial-images\n",
    "which has sets of faces where the subject is doing different things to increase variability.\n",
    " Another dataset I could use might include one  a user on reddit posted a large database of pictures scraped from tinder. Another dataset on kaggle also labled pictues with race, gender and emotion, so I could try training with those variables as well.\n",
    " Success would be a model which could tell, given a picture, if that picture was a picture of a the person it's supposed to be of with an accuracy of 95%. \n",
    " I would use convolutional neural nets using the keras Conv2D layers and MaxPool layers. Difficulties might include reconizing faces from different angles or with different expressions"
   ]
  },
  {
   "cell_type": "markdown",
   "metadata": {
    "pycharm": {
     "metadata": false
    }
   },
   "source": [
    "# Project Draft #2\n",
    "My goal for this project is to replicate the experiments done by \"FaceNet: A Unified Embedding for Face Recognition and Clustering\" (https://arxiv.org/pdf/1503.03832.pdf). Their approach uses eigenfaces, or a principle component analysis of the images to reduce\n",
    "\n"
   ]
  }
 ],
 "metadata": {
  "kernelspec": {
   "display_name": "Python 3",
   "language": "python",
   "name": "python3"
  },
  "language_info": {
   "codemirror_mode": {
    "name": "ipython",
    "version": 3
   },
   "file_extension": ".py",
   "mimetype": "text/x-python",
   "name": "python",
   "nbconvert_exporter": "python",
   "pygments_lexer": "ipython3",
   "version": "3.5.2"
  },
  "stem_cell": {
   "cell_type": "raw",
   "metadata": {
    "pycharm": {
     "metadata": false
    }
   },
   "source": ""
  }
 },
 "nbformat": 4,
 "nbformat_minor": 1
}
