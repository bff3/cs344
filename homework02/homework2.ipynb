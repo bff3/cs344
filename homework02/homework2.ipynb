{
 "cells": [
  {
   "cell_type": "markdown",
   "metadata": {
    "collapsed": true
   },
   "source": [
    "# Homework 2"
   ]
  },
  {
   "cell_type": "markdown",
   "metadata": {},
   "source": [
    "## Problem 1"
   ]
  },
  {
   "cell_type": "code",
   "execution_count": 1,
   "metadata": {},
   "outputs": [
    {
     "name": "stdout",
     "output_type": "stream",
     "text": [
      "Token, Probability\n",
      "do 0.3333333333333333\n",
      "i 0.5\n",
      "like 0.3333333333333333\n",
      "green 0.01\n",
      "eggs 0.01\n",
      "and 0.01\n",
      "ham 0.01\n",
      "am 0.99\n",
      "spam 0.99\n",
      "not 0.99\n",
      "that 0.99\n",
      "spamiam 0.99\n",
      "generated email: ['green', 'do', 'i', 'i', 'ham', 'do', 'do', 'do', 'and', 'i']\n",
      "1.0306090899721738e-06\n"
     ]
    }
   ],
   "source": [
    "from random import *\n",
    "from math import *\n",
    "from functools import reduce\n",
    "import operator\n",
    "\n",
    "spam_corpus = [[\"I\", \"am\", \"spam\", \"spam\", \"I\", \"am\"], [\"I\", \"do\", \"not\", \"like\", \"that\", \"spamiam\"]]\n",
    "ham_corpus = [[\"do\", \"i\", \"like\", \"green\", \"eggs\", \"and\", \"ham\"], [\"i\", \"do\"]]\n",
    "\n",
    "# from some stack exchange post\n",
    "def prod(iterable):\n",
    "    return reduce(operator.mul, iterable, 1)\n",
    "\n",
    "def to_lower(corpus):\n",
    "    corpus_copy = corpus[:]\n",
    "    for i, mail in enumerate(corpus_copy):\n",
    "        for j, token in enumerate(mail):\n",
    "            corpus_copy[i][j] = token.lower()\n",
    "    return corpus_copy\n",
    "\n",
    "def concat(lst1, lst2): \n",
    "    lst3 = []\n",
    "    for d in lst1:\n",
    "        if d not in lst3:\n",
    "            lst3.append(d)\n",
    "    for e in lst2:\n",
    "        if e not in lst3:\n",
    "            lst3.append(e)\n",
    "    return lst3 \n",
    "\n",
    "class SpamFilter():\n",
    "    \n",
    "    def __init__(self, good_corpus, bad_corpus, email=[]):\n",
    "        self.email = email\n",
    "        self.good_corpus = good_corpus\n",
    "        self.bad_corpus = bad_corpus\n",
    "        # these count tables are intrinsic to the filter\n",
    "        # b/c we may want to update them as new spam is processed\n",
    "        self.good_table = self.token_count(good_corpus)\n",
    "        self.bad_table = self.token_count(bad_corpus)\n",
    "\n",
    "    def token_count(self, corpus):\n",
    "        '''takes corpus and returns dictionary with each token of the corpus\n",
    "        as a key and the number of times the token has appeared as a value'''\n",
    "        words = {}\n",
    "        for mail in corpus:\n",
    "            for token in mail:\n",
    "                if token not in words:\n",
    "                    words[token] = 1\n",
    "                else:\n",
    "                    words[token] += 1\n",
    "        return words  \n",
    "        \n",
    "    def gen_mail(self, isGood=bool(getrandbits(1)), length=20):\n",
    "        '''returns email randomly generated'''\n",
    "        if isGood:\n",
    "            email = []\n",
    "            for i in range(length):\n",
    "                email.append(choice(choice(self.good_corpus)))\n",
    "            self.email = email\n",
    "            return email\n",
    "        else:\n",
    "            email = []\n",
    "            for i in range(length):\n",
    "                email.append(choice(choice(self.bad_corpus)))\n",
    "            self.email = email\n",
    "            return email\n",
    "        \n",
    "    def pr_token(self, word):\n",
    "        '''calculates probability token is a spam token'''\n",
    "        ngood = len(self.good_corpus)\n",
    "        nbad = len(self.bad_corpus)\n",
    "        try:\n",
    "            g = 2 * self.good_table[word]\n",
    "        except KeyError:\n",
    "            g = 0\n",
    "        try:\n",
    "            b = self.bad_table[word]\n",
    "        except KeyError:\n",
    "            b = 0\n",
    "        if (g + b) >= 1:\n",
    "            return max( 0.01, min( 0.99, float((min(1, b / nbad))/(min(1, g / ngood) + min(1, b / nbad)))))\n",
    "        else:\n",
    "            return None\n",
    "    \n",
    "    def dump_token_pr(self):\n",
    "        print('Token, Probability')\n",
    "        out = {}\n",
    "        for token in concat(self.good_table.keys(),self.bad_table.keys()):\n",
    "            out[token] = self.pr_token(token)\n",
    "        return out\n",
    "        \n",
    "    def pr_mail(self, ntokens=5):\n",
    "        '''takes number of interesting tokens to use;\n",
    "        using self.email; calculate probability an email is spam;\n",
    "        return confidence an email is spam'''\n",
    "        \n",
    "        # from the email, collect ntokens number of tokens which are the spammiest or hammiest\n",
    "        interest_table = {}\n",
    "        mail_table = {}\n",
    "        for token in self.email:\n",
    "            mail_table[token] = self.pr_token(token)\n",
    "            token_interest = fabs(0.50 - self.pr_token(token))\n",
    "            interest_table[token] = token_interest\n",
    "        interesting_tokens = sorted(interest_table, key=interest_table.get, reverse=True)[:ntokens]\n",
    "        \n",
    "        # iterate over the email and record the value of each instance of an interesting token\n",
    "        interesting_token_values = []\n",
    "        for token in self.email:\n",
    "            if token in interesting_tokens:\n",
    "                interesting_token_values.append(mail_table[token])\n",
    "        \n",
    "        # calculate confidence email is spam\n",
    "        polynom = []\n",
    "        for v in interesting_token_values:\n",
    "            polynom.append(1 - v)\n",
    "        \n",
    "        confidence = prod(interesting_token_values) / (prod(interesting_token_values) + prod(polynom))\n",
    "        return confidence\n",
    "            \n",
    "        \n",
    "filter0 = SpamFilter(good_corpus=to_lower(ham_corpus), bad_corpus=to_lower(spam_corpus))\n",
    "\n",
    "# dump probabilities\n",
    "for k, v in filter0.dump_token_pr().items():\n",
    "    print(k, v)\n",
    "\n",
    "#randomly generate a spam or ham email\n",
    "email = filter0.gen_mail(isGood=True, length=10)\n",
    "print('generated email:', email)\n",
    "\n",
    "# confidence it is spam\n",
    "print(filter0.pr_mail(3))\n",
    "\n"
   ]
  },
  {
   "cell_type": "markdown",
   "metadata": {},
   "source": [
    "This approach is Baysian because of the \n",
    "`prod(interesting_token_values) / (prod(interesting_token_values) + prod(polynom))` \n",
    "expression. The confidence that an email is spam is calculated by using Bayes rule by multiplying the probabilities token is spam given a token for each token in the email."
   ]
  },
  {
   "cell_type": "markdown",
   "metadata": {},
   "source": [
    "## Problem 2"
   ]
  },
  {
   "cell_type": "markdown",
   "metadata": {},
   "source": [
    "### a."
   ]
  },
  {
   "cell_type": "code",
   "execution_count": 2,
   "metadata": {},
   "outputs": [],
   "source": [
    "from probability import BayesNet, elimination_ask\n",
    "\n",
    "# Utility variables\n",
    "T, F = True, False\n",
    "\n",
    "cloudy = BayesNet([\n",
    "    ('Cloudy', '', 0.5),\n",
    "    ('Sprinkler', 'Cloudy', {T: 0.1, F: 0.5}),\n",
    "    ('Rain', 'Cloudy', {T: 0.8, F: 0.2}),\n",
    "    ('WetGrass', 'Sprinkler Rain', {(T, T): 0.99, (T, F): 0.9, (F, T): 0.9, (F, F): 0.00})\n",
    "    ])"
   ]
  },
  {
   "cell_type": "markdown",
   "metadata": {},
   "source": [
    "### b."
   ]
  },
  {
   "cell_type": "markdown",
   "metadata": {},
   "source": [
    "4 variables each with two possible values gives"
   ]
  },
  {
   "cell_type": "code",
   "execution_count": 3,
   "metadata": {},
   "outputs": [
    {
     "name": "stdout",
     "output_type": "stream",
     "text": [
      "16\n"
     ]
    }
   ],
   "source": [
    "print(2**4)"
   ]
  },
  {
   "cell_type": "markdown",
   "metadata": {},
   "source": [
    "### c."
   ]
  },
  {
   "cell_type": "markdown",
   "metadata": {},
   "source": [
    "two values for cloudy + two times two values for sprinkler and rain + two for wet grass"
   ]
  },
  {
   "cell_type": "code",
   "execution_count": 4,
   "metadata": {},
   "outputs": [
    {
     "name": "stdout",
     "output_type": "stream",
     "text": [
      "8\n"
     ]
    }
   ],
   "source": [
    "print(2+4+2)"
   ]
  },
  {
   "cell_type": "markdown",
   "metadata": {},
   "source": [
    "### d."
   ]
  },
  {
   "cell_type": "markdown",
   "metadata": {},
   "source": [
    "#### i."
   ]
  },
  {
   "cell_type": "code",
   "execution_count": 5,
   "metadata": {},
   "outputs": [
    {
     "name": "stdout",
     "output_type": "stream",
     "text": [
      "P(Cloudy)= False: 0.5, True: 0.5\n"
     ]
    }
   ],
   "source": [
    "print('P(Cloudy)=', elimination_ask('Cloudy',{}, cloudy).show_approx())"
   ]
  },
  {
   "cell_type": "markdown",
   "metadata": {},
   "source": [
    "probability distrobution is already in table. <0.5 0.5>"
   ]
  },
  {
   "cell_type": "markdown",
   "metadata": {},
   "source": [
    "#### ii."
   ]
  },
  {
   "cell_type": "code",
   "execution_count": 6,
   "metadata": {},
   "outputs": [
    {
     "name": "stdout",
     "output_type": "stream",
     "text": [
      "P(Sprinker | cloudy)= False: 0.9, True: 0.1\n"
     ]
    }
   ],
   "source": [
    "print('P(Sprinker | cloudy)=', elimination_ask('Sprinkler', dict(Cloudy=T), cloudy).show_approx())"
   ]
  },
  {
   "cell_type": "markdown",
   "metadata": {},
   "source": [
    "probability distrobution is already in table. F,T = <0.9, 0.1>"
   ]
  },
  {
   "cell_type": "markdown",
   "metadata": {},
   "source": [
    "#### iii."
   ]
  },
  {
   "cell_type": "code",
   "execution_count": 7,
   "metadata": {},
   "outputs": [
    {
     "name": "stdout",
     "output_type": "stream",
     "text": [
      "P(Cloudy| the sprinkler is running and it’s not raining)= False: 0.952, True: 0.0476\n"
     ]
    }
   ],
   "source": [
    "print('P(Cloudy| the sprinkler is running and it’s not raining)=', elimination_ask('Cloudy', dict(Sprinkler=T, Rain=F), cloudy).show_approx())"
   ]
  },
  {
   "cell_type": "markdown",
   "metadata": {},
   "source": [
    "$$ \\alpha P(C)P(s|C)P(\\not r|C) = \\alpha <0.5*0.1*0.2, 0.5*0.5*0.8>\\\\\n",
    "= <\\frac{0.5*0.1*0.2}{(0.5*0.1*0.2 + 0.5*0.5*0.8)}, \\frac{0.5*0.5*0.8}{(0.5*0.1*0.2 + 0.5*0.5*0.8)}>\\\\\n",
    "= <0.0476, 0.952>\n",
    "$$"
   ]
  },
  {
   "cell_type": "markdown",
   "metadata": {},
   "source": [
    "#### iv."
   ]
  },
  {
   "cell_type": "code",
   "execution_count": 8,
   "metadata": {},
   "outputs": [
    {
     "name": "stdout",
     "output_type": "stream",
     "text": [
      "P(WetGrass | it’s cloudy, the sprinkler is running and it’s raining)= False: 0.01, True: 0.99\n"
     ]
    }
   ],
   "source": [
    "print('P(WetGrass | it’s cloudy, the sprinkler is running and it’s raining)=', elimination_ask('WetGrass', dict(Cloudy=T, Rain=T, Sprinkler=T), cloudy).show_approx())"
   ]
  },
  {
   "cell_type": "markdown",
   "metadata": {},
   "source": [
    "This probability can be read from the table. The cloudy value has no bearing on the outcome since it is already given that it's raining and the sprinkler is running. F,T = <0.01, 0.99>"
   ]
  },
  {
   "cell_type": "markdown",
   "metadata": {},
   "source": [
    "#### v."
   ]
  },
  {
   "cell_type": "code",
   "execution_count": 9,
   "metadata": {},
   "outputs": [
    {
     "name": "stdout",
     "output_type": "stream",
     "text": [
      "P(Cloudy | the grass is not wet)= False: 0.639, True: 0.361\n"
     ]
    }
   ],
   "source": [
    "print('P(Cloudy | the grass is not wet)=', elimination_ask('Cloudy', dict(WetGrass=F), cloudy).show_approx())"
   ]
  },
  {
   "cell_type": "markdown",
   "metadata": {},
   "source": [
    "$$P(C|\\not g) = \\alpha P(C)\\sum_{s,r}{P(s|C)P(r|C)P(\\not g| s,r)}\\\\\n",
    "= \\alpha <P(C)(P(s|C)P(r|C)P(\\not g| s,r)\\\\\n",
    "+P(\\not s|C)P(r|C)P(\\not g| \\not s,r))\\\\\n",
    "+P(s|C)P(\\not r|C)P(\\not g| s,\\not r))\\\\\n",
    "+P(\\not s|C)P(\\not r|C)P(\\not g| \\not s,\\not r)),\\\\\n",
    "+P(\\not C)(P(s|\\not C)P(r|\\not C)P(\\not g| s,r)\\\\\n",
    "+P(\\not s|\\not C)P(r|\\not C)P(\\not g| \\not s,r))\\\\\n",
    "+P(s|\\not C)P(\\not r|\\not C)P(\\not g| s, \\not r)\\\\\n",
    "+P(\\not s|\\not C)P(\\not r|\\not C)P(\\not g| \\not s, \\not r)>\\\\\n",
    "=\\alpha <0.5*(0.1*0.8*0.01+0.9*0.8*0.1+0.1*0.2*0.1+0.5*0.9*0.2*1),\\\\\n",
    "0.5*(0.5*0.2*0.01+0.5*0.2*0.1+0.5*0.8*0.1+0.5*0.5*0.8*1)>\\\\\n",
    "=<(0.1*0.8*0.01+0.9*0.8*0.1+0.1*0.2*0.1+0.9*0.2*1)/((0.1*0.8*0.01+0.9*0.8*0.1+0.1*0.2*0.1+0.9*0.2*1)+(0.5*0.2*0.01+0.5*0.2*0.1+0.5*0.8*0.1+0.5*0.8*1)),(0.5*0.2*0.01+0.5*0.2*0.1+0.5*0.8*0.1+0.5*0.8*1)/((0.1*0.8*0.01+0.9*0.8*0.1+0.1*0.2*0.1+0.9*0.2*1)+(0.5*0.2*0.01+0.5*0.2*0.1+0.5*0.8*0.1+0.5*0.8*1))>\\\\\n",
    "=<0.361,0.639>\n",
    "$$"
   ]
  },
  {
   "cell_type": "code",
   "execution_count": null,
   "metadata": {},
   "outputs": [],
   "source": []
  }
 ],
 "metadata": {
  "kernelspec": {
   "display_name": "Python 3",
   "language": "python",
   "name": "python3"
  },
  "language_info": {
   "codemirror_mode": {
    "name": "ipython",
    "version": 3
   },
   "file_extension": ".py",
   "mimetype": "text/x-python",
   "name": "python",
   "nbconvert_exporter": "python",
   "pygments_lexer": "ipython3",
   "version": "3.7.2"
  }
 },
 "nbformat": 4,
 "nbformat_minor": 1
}
