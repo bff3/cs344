{
 "cells": [
  {
   "cell_type": "markdown",
   "metadata": {
    "collapsed": true
   },
   "source": [
    "# Homework 2"
   ]
  },
  {
   "cell_type": "markdown",
   "metadata": {},
   "source": [
    "## Problem 1"
   ]
  },
  {
   "cell_type": "code",
   "execution_count": 88,
   "metadata": {},
   "outputs": [
    {
     "name": "stdout",
     "output_type": "stream",
     "text": [
      "['that', 'like', 'I', 'I', 'am', 'I', 'not', 'spam', 'I', 'not']\n",
      "0.99999896939091\n",
      "0.009999999999999992\n"
     ]
    }
   ],
   "source": [
    "from random import *\n",
    "from math import *\n",
    "from functools import reduce\n",
    "import operator\n",
    "\n",
    "spam_corpus = [[\"I\", \"am\", \"spam\", \"spam\", \"I\", \"am\"], [\"I\", \"do\", \"not\", \"like\", \"that\", \"spamiam\"]]\n",
    "ham_corpus = [[\"do\", \"i\", \"like\", \"green\", \"eggs\", \"and\", \"ham\"], [\"i\", \"do\"]]\n",
    "\n",
    "def prod(iterable):\n",
    "    return reduce(operator.mul, iterable, 1)\n",
    "\n",
    "class SpamFilter():\n",
    "    \n",
    "    def __init__(self, good_corpus, bad_corpus, email=[]):\n",
    "        self.email = email\n",
    "        self.good_corpus = good_corpus\n",
    "        self.bad_corpus = bad_corpus\n",
    "        self.good_table = token_count(good_corpus)\n",
    "        self.bad_table = token_count(bad_corpus)\n",
    "\n",
    "    def token_count(self):\n",
    "        '''takes corpus and returns dictionary with each token of the corpus\n",
    "        as a key and the number of times the token has appeared as a value'''\n",
    "        words = {}\n",
    "        for mail in corpus:\n",
    "            for token in mail:\n",
    "                if token not in words:\n",
    "                    words[token] = 1\n",
    "                else:\n",
    "                    words[token] += 1\n",
    "        return words  \n",
    "        \n",
    "    def gen_mail(self, isGood=bool(getrandbits(1)), length=20):\n",
    "        '''returns email randomly generated'''\n",
    "        if isGood:\n",
    "            email = []\n",
    "            for i in range(length):\n",
    "                email.append(choice(choice(self.good_corpus)))\n",
    "            self.email = email\n",
    "            return email\n",
    "        else:\n",
    "            email = []\n",
    "            for i in range(length):\n",
    "                email.append(choice(choice(self.bad_corpus)))\n",
    "            self.email = email\n",
    "            return email\n",
    "        \n",
    "    def pr_token(self, word):\n",
    "        '''calculates probability token is a spam token'''\n",
    "        ngood = len(self.good_corpus)\n",
    "        nbad = len(self.bad_corpus)\n",
    "        try:\n",
    "            g = 2 * self.good_table[word]\n",
    "        except KeyError:\n",
    "            g = 0\n",
    "        try:\n",
    "            b = self.bad_table[word]\n",
    "        except KeyError:\n",
    "            b = 0\n",
    "        if (g + b) >= 1:\n",
    "            return max( 0.01, min( 0.99, float((min(1, b / nbad))/(min(1, g / ngood) + min(1, b / nbad)))))\n",
    "        else:\n",
    "            return None\n",
    "        \n",
    "        \n",
    "    def pr_mail(self, ntokens=5):\n",
    "        '''takes email; calculate probability an email is spam; return confidence an email is spam'''\n",
    "        interest_table = {}\n",
    "        mail_table = {}\n",
    "        for token in self.email:\n",
    "            mail_table[token] = self.pr_token(token)\n",
    "            token_interest = fabs(0.50 - self.pr_token(token))\n",
    "            interest_table[token] = token_interest\n",
    "        interesting_tokens = sorted(interest_table, key=interest_table.get, reverse=True)[:ntokens]\n",
    "        \n",
    "        interesting_token_values = []\n",
    "        for token in interesting_tokens:\n",
    "            if token in interesting_tokens:\n",
    "                interesting_token_values.append(mail_table[token])\n",
    "        \n",
    "        polynom = []\n",
    "        for v in interesting_token_values:\n",
    "            polynom.append(1 - v)\n",
    "        \n",
    "        confidence = prod(interesting_token_values) / (prod(interesting_token_values) + prod(polynom))\n",
    "        return confidence\n",
    "            \n",
    "        \n",
    "filter0 = SpamFilter(good_corpus=ham_corpus, bad_corpus=spam_corpus)\n",
    "email = filter0.gen_mail(isGood=False, length=10)\n",
    "print(email)\n",
    "print(filter0.pr_mail(3))\n",
    "sample = ['do', 'do', 'do', 'do', 'do', 'do', 'i', 'spam', 'eggs']\n",
    "filter1 = SpamFilter(email=sample, good_corpus=ham_corpus, bad_corpus=spam_corpus)\n",
    "print(filter1.pr_mail(3))\n"
   ]
  },
  {
   "cell_type": "markdown",
   "metadata": {},
   "source": [
    "This approach is Baysian because of the \n",
    "`prod(interesting_token_values) / (prod(interesting_token_values) + prod(polynom))` \n",
    "expression. The confidence that an email is spam is calculated by using Bayes rule by multiplying the probabilities that a "
   ]
  },
  {
   "cell_type": "code",
   "execution_count": null,
   "metadata": {},
   "outputs": [],
   "source": []
  }
 ],
 "metadata": {
  "kernelspec": {
   "display_name": "Python 3",
   "language": "python",
   "name": "python3"
  },
  "language_info": {
   "codemirror_mode": {
    "name": "ipython",
    "version": 3
   },
   "file_extension": ".py",
   "mimetype": "text/x-python",
   "name": "python",
   "nbconvert_exporter": "python",
   "pygments_lexer": "ipython3",
   "version": "3.7.2"
  }
 },
 "nbformat": 4,
 "nbformat_minor": 1
}
